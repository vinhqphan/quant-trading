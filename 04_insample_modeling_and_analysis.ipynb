version https://git-lfs.github.com/spec/v1
oid sha256:0ad3c5fbfc9dda6353e1e1900835a25938bb5ebd496195dbec7731458f926b14
size 1522483
